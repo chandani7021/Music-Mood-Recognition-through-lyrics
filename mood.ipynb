{
  "cells": [
    {
      "cell_type": "code",
      "execution_count": null,
      "metadata": {
        "id": "nIhWuuvh6cOW"
      },
      "outputs": [],
      "source": [
        "%matplotlib inline\n",
        "import numpy as np\n",
        "import pandas as pd\n",
        "import matplotlib.pyplot as plt\n",
        "import seaborn as sns\n",
        "import warnings\n",
        "import requests\n",
        "import json\n",
        "warnings.filterwarnings(\"ignore\")"
      ]
    },
    {
      "cell_type": "code",
      "execution_count": null,
      "metadata": {
        "colab": {
          "base_uri": "https://localhost:8080/"
        },
        "id": "VzLwj9Dm6cOY",
        "outputId": "05234275-72f4-48b6-dc5f-dd6606f45d43"
      },
      "outputs": [
        {
          "output_type": "stream",
          "name": "stderr",
          "text": [
            "[nltk_data] Downloading package punkt to /root/nltk_data...\n",
            "[nltk_data]   Unzipping tokenizers/punkt.zip.\n",
            "[nltk_data] Downloading package wordnet to /root/nltk_data...\n",
            "[nltk_data] Downloading package averaged_perceptron_tagger to\n",
            "[nltk_data]     /root/nltk_data...\n",
            "[nltk_data]   Unzipping taggers/averaged_perceptron_tagger.zip.\n"
          ]
        },
        {
          "output_type": "execute_result",
          "data": {
            "text/plain": [
              "True"
            ]
          },
          "metadata": {},
          "execution_count": 2
        }
      ],
      "source": [
        "import pandas as pd\n",
        "import numpy as np\n",
        "from nltk.tokenize import word_tokenize\n",
        "from nltk import pos_tag\n",
        "from nltk.corpus import stopwords\n",
        "from nltk.stem import WordNetLemmatizer\n",
        "from sklearn.preprocessing import LabelEncoder\n",
        "from collections import defaultdict\n",
        "from nltk.corpus import wordnet as wn\n",
        "from sklearn.ensemble import RandomForestClassifier\n",
        "import nltk\n",
        "nltk.download('punkt')\n",
        "nltk.download('wordnet')\n",
        "nltk.download('averaged_perceptron_tagger')"
      ]
    },
    {
      "cell_type": "code",
      "execution_count": null,
      "metadata": {
        "id": "5ZOVFp7_6cOZ"
      },
      "outputs": [],
      "source": [
        "df=pd.read_csv(\"training_backup.csv\")\n",
        "df_new=pd.read_csv(\"testing_backup.csv\")"
      ]
    },
    {
      "cell_type": "code",
      "execution_count": null,
      "metadata": {
        "id": "hOoCucmc6cOZ"
      },
      "outputs": [],
      "source": [
        "df_new['lyrics'] = [entry.lower() for entry in df_new['lyrics']]\n",
        "df_new['lyrics']= [word_tokenize(entry) for entry in df_new['lyrics']]"
      ]
    },
    {
      "cell_type": "code",
      "execution_count": null,
      "metadata": {
        "id": "e0njivm26cOZ"
      },
      "outputs": [],
      "source": [
        "df['lyrics'] = [entry.lower() for entry in df['lyrics']]\n",
        "df['lyrics']= [word_tokenize(entry) for entry in df['lyrics']]"
      ]
    },
    {
      "cell_type": "code",
      "source": [
        "import nltk\n",
        "nltk.download('omw-1.4')"
      ],
      "metadata": {
        "colab": {
          "base_uri": "https://localhost:8080/"
        },
        "id": "Kv74yoow6_sF",
        "outputId": "488769b8-9a63-420f-c1a2-f39d4e6d46e3"
      },
      "execution_count": null,
      "outputs": [
        {
          "output_type": "stream",
          "name": "stderr",
          "text": [
            "[nltk_data] Downloading package omw-1.4 to /root/nltk_data...\n"
          ]
        },
        {
          "output_type": "execute_result",
          "data": {
            "text/plain": [
              "True"
            ]
          },
          "metadata": {},
          "execution_count": 8
        }
      ]
    },
    {
      "cell_type": "code",
      "source": [
        "nltk.download('stopwords')"
      ],
      "metadata": {
        "colab": {
          "base_uri": "https://localhost:8080/"
        },
        "id": "XzIU1piM8jlg",
        "outputId": "ea290432-1c6c-4ebd-e621-598dae4e277a"
      },
      "execution_count": null,
      "outputs": [
        {
          "output_type": "stream",
          "name": "stderr",
          "text": [
            "[nltk_data] Downloading package stopwords to /root/nltk_data...\n",
            "[nltk_data]   Unzipping corpora/stopwords.zip.\n"
          ]
        },
        {
          "output_type": "execute_result",
          "data": {
            "text/plain": [
              "True"
            ]
          },
          "metadata": {},
          "execution_count": 9
        }
      ]
    },
    {
      "cell_type": "code",
      "execution_count": null,
      "metadata": {
        "id": "HxmLmoyP6cOZ"
      },
      "outputs": [],
      "source": [
        "tag_map = defaultdict(lambda : wn.NOUN)\n",
        "tag_map['J'] = wn.ADJ\n",
        "tag_map['V'] = wn.VERB\n",
        "tag_map['R'] = wn.ADV\n",
        "for index,entry in enumerate(df_new['lyrics']):\n",
        "    Final_words = []\n",
        "    word_Lemmatized = WordNetLemmatizer()\n",
        "    for word, tag in pos_tag(entry):\n",
        "        if word not in stopwords.words('english') and word.isalpha():\n",
        "            word_Final = word_Lemmatized.lemmatize(word,tag_map[tag[0]])\n",
        "            Final_words.append(word_Final)\n",
        "    df_new.loc[index,'text_final'] = str(Final_words)"
      ]
    },
    {
      "cell_type": "code",
      "execution_count": null,
      "metadata": {
        "colab": {
          "base_uri": "https://localhost:8080/",
          "height": 206
        },
        "id": "GyRs5GAB6cOa",
        "outputId": "8dedaf81-0a00-4b45-adf3-3d5def34defd"
      },
      "outputs": [
        {
          "output_type": "execute_result",
          "data": {
            "text/plain": [
              "                                                 lyrics  mood\n",
              "1477  [yeah-yeah, yeah-yeah, yeah-yeah, yeah-yeah, y...     1\n",
              "1478  [rip, them, down, hold, me, up, tell, them, th...     3\n",
              "1479  [it, 's, way, too, late, to, think, of, someon...     4\n",
              "1480  [got, no, place, to, go, but, there, 's, a, gi...     2\n",
              "1481  [every, light, in, the, night, flicker, in, an...     1"
            ],
            "text/html": [
              "\n",
              "  <div id=\"df-65dba1ef-4ff9-41d0-a890-59c650d7f7bd\">\n",
              "    <div class=\"colab-df-container\">\n",
              "      <div>\n",
              "<style scoped>\n",
              "    .dataframe tbody tr th:only-of-type {\n",
              "        vertical-align: middle;\n",
              "    }\n",
              "\n",
              "    .dataframe tbody tr th {\n",
              "        vertical-align: top;\n",
              "    }\n",
              "\n",
              "    .dataframe thead th {\n",
              "        text-align: right;\n",
              "    }\n",
              "</style>\n",
              "<table border=\"1\" class=\"dataframe\">\n",
              "  <thead>\n",
              "    <tr style=\"text-align: right;\">\n",
              "      <th></th>\n",
              "      <th>lyrics</th>\n",
              "      <th>mood</th>\n",
              "    </tr>\n",
              "  </thead>\n",
              "  <tbody>\n",
              "    <tr>\n",
              "      <th>1477</th>\n",
              "      <td>[yeah-yeah, yeah-yeah, yeah-yeah, yeah-yeah, y...</td>\n",
              "      <td>1</td>\n",
              "    </tr>\n",
              "    <tr>\n",
              "      <th>1478</th>\n",
              "      <td>[rip, them, down, hold, me, up, tell, them, th...</td>\n",
              "      <td>3</td>\n",
              "    </tr>\n",
              "    <tr>\n",
              "      <th>1479</th>\n",
              "      <td>[it, 's, way, too, late, to, think, of, someon...</td>\n",
              "      <td>4</td>\n",
              "    </tr>\n",
              "    <tr>\n",
              "      <th>1480</th>\n",
              "      <td>[got, no, place, to, go, but, there, 's, a, gi...</td>\n",
              "      <td>2</td>\n",
              "    </tr>\n",
              "    <tr>\n",
              "      <th>1481</th>\n",
              "      <td>[every, light, in, the, night, flicker, in, an...</td>\n",
              "      <td>1</td>\n",
              "    </tr>\n",
              "  </tbody>\n",
              "</table>\n",
              "</div>\n",
              "      <button class=\"colab-df-convert\" onclick=\"convertToInteractive('df-65dba1ef-4ff9-41d0-a890-59c650d7f7bd')\"\n",
              "              title=\"Convert this dataframe to an interactive table.\"\n",
              "              style=\"display:none;\">\n",
              "        \n",
              "  <svg xmlns=\"http://www.w3.org/2000/svg\" height=\"24px\"viewBox=\"0 0 24 24\"\n",
              "       width=\"24px\">\n",
              "    <path d=\"M0 0h24v24H0V0z\" fill=\"none\"/>\n",
              "    <path d=\"M18.56 5.44l.94 2.06.94-2.06 2.06-.94-2.06-.94-.94-2.06-.94 2.06-2.06.94zm-11 1L8.5 8.5l.94-2.06 2.06-.94-2.06-.94L8.5 2.5l-.94 2.06-2.06.94zm10 10l.94 2.06.94-2.06 2.06-.94-2.06-.94-.94-2.06-.94 2.06-2.06.94z\"/><path d=\"M17.41 7.96l-1.37-1.37c-.4-.4-.92-.59-1.43-.59-.52 0-1.04.2-1.43.59L10.3 9.45l-7.72 7.72c-.78.78-.78 2.05 0 2.83L4 21.41c.39.39.9.59 1.41.59.51 0 1.02-.2 1.41-.59l7.78-7.78 2.81-2.81c.8-.78.8-2.07 0-2.86zM5.41 20L4 18.59l7.72-7.72 1.47 1.35L5.41 20z\"/>\n",
              "  </svg>\n",
              "      </button>\n",
              "      \n",
              "  <style>\n",
              "    .colab-df-container {\n",
              "      display:flex;\n",
              "      flex-wrap:wrap;\n",
              "      gap: 12px;\n",
              "    }\n",
              "\n",
              "    .colab-df-convert {\n",
              "      background-color: #E8F0FE;\n",
              "      border: none;\n",
              "      border-radius: 50%;\n",
              "      cursor: pointer;\n",
              "      display: none;\n",
              "      fill: #1967D2;\n",
              "      height: 32px;\n",
              "      padding: 0 0 0 0;\n",
              "      width: 32px;\n",
              "    }\n",
              "\n",
              "    .colab-df-convert:hover {\n",
              "      background-color: #E2EBFA;\n",
              "      box-shadow: 0px 1px 2px rgba(60, 64, 67, 0.3), 0px 1px 3px 1px rgba(60, 64, 67, 0.15);\n",
              "      fill: #174EA6;\n",
              "    }\n",
              "\n",
              "    [theme=dark] .colab-df-convert {\n",
              "      background-color: #3B4455;\n",
              "      fill: #D2E3FC;\n",
              "    }\n",
              "\n",
              "    [theme=dark] .colab-df-convert:hover {\n",
              "      background-color: #434B5C;\n",
              "      box-shadow: 0px 1px 3px 1px rgba(0, 0, 0, 0.15);\n",
              "      filter: drop-shadow(0px 1px 2px rgba(0, 0, 0, 0.3));\n",
              "      fill: #FFFFFF;\n",
              "    }\n",
              "  </style>\n",
              "\n",
              "      <script>\n",
              "        const buttonEl =\n",
              "          document.querySelector('#df-65dba1ef-4ff9-41d0-a890-59c650d7f7bd button.colab-df-convert');\n",
              "        buttonEl.style.display =\n",
              "          google.colab.kernel.accessAllowed ? 'block' : 'none';\n",
              "\n",
              "        async function convertToInteractive(key) {\n",
              "          const element = document.querySelector('#df-65dba1ef-4ff9-41d0-a890-59c650d7f7bd');\n",
              "          const dataTable =\n",
              "            await google.colab.kernel.invokeFunction('convertToInteractive',\n",
              "                                                     [key], {});\n",
              "          if (!dataTable) return;\n",
              "\n",
              "          const docLinkHtml = 'Like what you see? Visit the ' +\n",
              "            '<a target=\"_blank\" href=https://colab.research.google.com/notebooks/data_table.ipynb>data table notebook</a>'\n",
              "            + ' to learn more about interactive tables.';\n",
              "          element.innerHTML = '';\n",
              "          dataTable['output_type'] = 'display_data';\n",
              "          await google.colab.output.renderOutput(dataTable, element);\n",
              "          const docLink = document.createElement('div');\n",
              "          docLink.innerHTML = docLinkHtml;\n",
              "          element.appendChild(docLink);\n",
              "        }\n",
              "      </script>\n",
              "    </div>\n",
              "  </div>\n",
              "  "
            ]
          },
          "metadata": {},
          "execution_count": 11
        }
      ],
      "source": [
        "df.tail()"
      ]
    },
    {
      "cell_type": "code",
      "execution_count": null,
      "metadata": {
        "id": "OyyWW3ch6cOa"
      },
      "outputs": [],
      "source": [
        "tag_map = defaultdict(lambda : wn.NOUN)\n",
        "tag_map['J'] = wn.ADJ\n",
        "tag_map['V'] = wn.VERB\n",
        "tag_map['R'] = wn.ADV\n",
        "for index,entry in enumerate(df['lyrics']):\n",
        "    Final_words = []\n",
        "    word_Lemmatized = WordNetLemmatizer()\n",
        "    for word, tag in pos_tag(entry):\n",
        "        if word not in stopwords.words('english') and word.isalpha():\n",
        "            word_Final = word_Lemmatized.lemmatize(word,tag_map[tag[0]])\n",
        "            Final_words.append(word_Final)\n",
        "    df.loc[index,'text_final'] = str(Final_words)"
      ]
    },
    {
      "cell_type": "code",
      "execution_count": null,
      "metadata": {
        "id": "_1UtFN2Y6cOa"
      },
      "outputs": [],
      "source": [
        "train_x = df['text_final']\n",
        "valid_x = df_new['text_final'][:233]\n",
        "train_y = df['mood']\n",
        "valid_y = df_new['mood'][:233]"
      ]
    },
    {
      "cell_type": "code",
      "execution_count": null,
      "metadata": {
        "id": "EnaGG0246cOa"
      },
      "outputs": [],
      "source": [
        "Encoder = LabelEncoder()\n",
        "train_y = Encoder.fit_transform(train_y.ravel())\n",
        "valid_y = Encoder.fit_transform(valid_y.ravel())"
      ]
    },
    {
      "cell_type": "code",
      "execution_count": null,
      "metadata": {
        "colab": {
          "base_uri": "https://localhost:8080/"
        },
        "id": "CAXYXTNn6cOb",
        "outputId": "7e28651c-c86b-47dd-c9be-faf6b1723b5c"
      },
      "outputs": [
        {
          "output_type": "stream",
          "name": "stdout",
          "text": [
            "['god', 'need', 'friend', 'god', 'come', 'end', 'god', 'lose', 'mind', 'god', 'find', 'wan', 'na', 'wan', 'na', 'wan', 'na', 'wan', 'na', 'love', 'felt', 'like', 'hate', 'hate', 'felt', 'like', 'love', 'say', 'fear', 'say', 'scar', 'wan', 'na', 'wan', 'na', 'wan', 'na', 'wan', 'na', 'tell', 'believe', 'tell', 'see', 'cause', 'know', 'trust', 'heart', 'fill', 'disgust', 'ca', 'take', 'tell', 'believe', 'tell', 'see', 'cause', 'know', 'trust', 'heart', 'fill', 'disgust', 'tell', 'believe', 'tell', 'believe', 'lady', 'gentleman', 'may', 'attention', 'ready', 'joke', 'ready', 'great', 'deception', 'tell', 'believe', 'tell', 'believe', 'tell', 'believe', 'tell', 'believe', 'tell', 'believe', 'tell', 'believe']\n"
          ]
        }
      ],
      "source": [
        "all_texts = []\n",
        "for items in train_x:\n",
        "    all_texts.append(items) \n",
        "for items in valid_x:\n",
        "    all_texts.append(items)\n",
        "print(all_texts[0])"
      ]
    },
    {
      "cell_type": "code",
      "execution_count": null,
      "metadata": {
        "id": "daYttonE6cOb"
      },
      "outputs": [],
      "source": [
        "from sklearn import model_selection, preprocessing, linear_model, naive_bayes, metrics, svm\n",
        "from sklearn.feature_extraction.text import TfidfVectorizer, CountVectorizer\n",
        "from sklearn import decomposition, ensemble\n",
        "\n",
        "import pandas,numpy,xgboost, textblob, string\n",
        "from keras.preprocessing import text, sequence\n",
        "from keras import layers, models, optimizers"
      ]
    },
    {
      "cell_type": "code",
      "execution_count": null,
      "metadata": {
        "id": "tRK4qrWZ6cOb"
      },
      "outputs": [],
      "source": [
        "count_vect = CountVectorizer(analyzer='word')\n",
        "count_vect.fit(all_texts)\n",
        "xtrain_count =  count_vect.transform(train_x)\n",
        "xvalid_count =  count_vect.transform(valid_x)"
      ]
    },
    {
      "cell_type": "code",
      "execution_count": null,
      "metadata": {
        "id": "edzriHto6cOb"
      },
      "outputs": [],
      "source": [
        "import nltk\n",
        "import string\n",
        "import re\n",
        "\n",
        "porter_stemmer = nltk.stem.porter.PorterStemmer()\n",
        "def porter_tokenizer(text, stemmer=porter_stemmer):\n",
        "    lower_txt = text.lower()\n",
        "    tokens = nltk.wordpunct_tokenize(lower_txt)\n",
        "    stems = [porter_stemmer.stem(t) for t in tokens]\n",
        "    no_punct = [s for s in stems if re.match('^[a-zA-Z]+$', s) is not None]\n",
        "    return no_punct\n",
        "from sklearn.feature_extraction.text import TfidfVectorizer\n",
        "tfidf_vect = TfidfVectorizer(\n",
        "            encoding='utf-8',\n",
        "            decode_error='replace',\n",
        "            strip_accents='unicode',\n",
        "            analyzer='word',\n",
        "            binary=False,\n",
        "            stop_words=\"english\",\n",
        "            tokenizer=porter_tokenizer\n",
        "    )"
      ]
    },
    {
      "cell_type": "code",
      "execution_count": null,
      "metadata": {
        "id": "s6Rhmd0T6cOc"
      },
      "outputs": [],
      "source": [
        "#tfidf_vect = TfidfVectorizer(analyzer='word',max_features=7000)\n",
        "tfidf_vect.fit(all_texts)\n",
        "xtrain_tfidf =  tfidf_vect.transform(train_x)\n",
        "xvalid_tfidf =  tfidf_vect.transform(valid_x)\n",
        "\n",
        "tfidf_vect_ngram = TfidfVectorizer(analyzer='word', ngram_range=(2,2), max_features=7000)\n",
        "tfidf_vect_ngram.fit(all_texts)\n",
        "xtrain_tfidf_ngram =  tfidf_vect_ngram.transform(train_x)\n",
        "xvalid_tfidf_ngram =  tfidf_vect_ngram.transform(valid_x)"
      ]
    },
    {
      "cell_type": "code",
      "execution_count": null,
      "metadata": {
        "id": "NsHON7V36cOc"
      },
      "outputs": [],
      "source": [
        "def train_model(classifier, feature_vector_train, label, feature_vector_valid, is_neural_net=False):\n",
        "    classifier.fit(feature_vector_train, label)\n",
        "    predictions = classifier.predict(feature_vector_valid)\n",
        "    return metrics.accuracy_score(predictions, valid_y)"
      ]
    },
    {
      "cell_type": "code",
      "execution_count": null,
      "metadata": {
        "colab": {
          "base_uri": "https://localhost:8080/"
        },
        "id": "h1qDexoo6cOc",
        "outputId": "20762ef1-5cae-4c63-cb07-0f8ca81a5695"
      },
      "outputs": [
        {
          "output_type": "stream",
          "name": "stdout",
          "text": [
            "NB, Count Vectors:  0.5836909871244635\n",
            "NB, WordLevel TF-IDF:  0.4592274678111588\n",
            "NB, N-Gram Vectors:  0.5836909871244635\n"
          ]
        }
      ],
      "source": [
        "#naive bays\n",
        "accuracy_count_nb = train_model(naive_bayes.MultinomialNB(), xtrain_count, train_y, xvalid_count)\n",
        "print (\"NB, Count Vectors: \", accuracy_count_nb)\n",
        "\n",
        "accuracy_word_nb = train_model(naive_bayes.MultinomialNB(), xtrain_tfidf, train_y, xvalid_tfidf)\n",
        "print (\"NB, WordLevel TF-IDF: \", accuracy_word_nb)\n",
        "\n",
        "accuracy_ngram_nb = train_model(naive_bayes.MultinomialNB(), xtrain_tfidf_ngram, train_y, xvalid_tfidf_ngram)\n",
        "print (\"NB, N-Gram Vectors: \", accuracy_ngram_nb)"
      ]
    },
    {
      "cell_type": "code",
      "execution_count": null,
      "metadata": {
        "colab": {
          "base_uri": "https://localhost:8080/"
        },
        "id": "423ZvZCj6cOd",
        "outputId": "317df31f-dd1b-425e-aad3-527f57823831"
      },
      "outputs": [
        {
          "output_type": "stream",
          "name": "stdout",
          "text": [
            "SVM, Count Vectors:  0.630901287553648\n",
            "SVM, WordLevel TF-IDF:  0.6523605150214592\n",
            "SVM, Ngram Vectors:  0.6051502145922747\n"
          ]
        }
      ],
      "source": [
        "from sklearn.svm import LinearSVC\n",
        "accuracy_count_svm = train_model(LinearSVC(multi_class=\"ovr\"), xtrain_count, train_y, xvalid_count)\n",
        "print (\"SVM, Count Vectors: \", accuracy_count_svm)\n",
        "\n",
        "accuracy_word_svm = train_model(LinearSVC(multi_class=\"ovr\"), xtrain_tfidf, train_y, xvalid_tfidf)\n",
        "print (\"SVM, WordLevel TF-IDF: \", accuracy_word_svm)\n",
        "\n",
        "accuracy_ngram_svm = train_model(LinearSVC(multi_class=\"ovr\"), xtrain_tfidf_ngram, train_y, xvalid_tfidf_ngram)\n",
        "print (\"SVM, Ngram Vectors: \", accuracy_ngram_svm)"
      ]
    },
    {
      "cell_type": "code",
      "execution_count": null,
      "metadata": {
        "id": "tFaQ45WT6cOd"
      },
      "outputs": [],
      "source": [
        "import matplotlib as mpl\n",
        "import numpy as np\n",
        "\n",
        "def plot_cm(X, y, clf, title):\n",
        "\n",
        "    cm = metrics.confusion_matrix(y, clf.predict(X))\n",
        "    print(metrics.classification_report(y, clf.predict(X)))\n",
        "    np.set_printoptions(suppress=True)\n",
        "    mpl.rc(\"figure\", figsize=(10,10))\n",
        "\n",
        "    hm = sns.heatmap(cm, \n",
        "            cbar=False,\n",
        "            annot=True, \n",
        "            square=True,\n",
        "            fmt='d',\n",
        "            yticklabels=['happy','sad','angry','relaxed'],\n",
        "            xticklabels=['happy','sad','angry','relaxed'],\n",
        "            cmap='Blues'\n",
        "            )\n",
        "    plt.title(title)\n",
        "    plt.ylabel('actual class')\n",
        "    plt.xlabel('predicted class')\n",
        "    plt.tight_layout()\n",
        "    #plt.savefig(\"rf_tfidf.jpg\")\n",
        "    plt.show()"
      ]
    },
    {
      "cell_type": "code",
      "execution_count": null,
      "metadata": {
        "colab": {
          "base_uri": "https://localhost:8080/",
          "height": 920
        },
        "id": "Y6Aez8l16cOd",
        "outputId": "d2e2f5e9-0f27-459a-b82d-c461b2f26ae8"
      },
      "outputs": [
        {
          "output_type": "stream",
          "name": "stdout",
          "text": [
            "              precision    recall  f1-score   support\n",
            "\n",
            "           0       0.76      0.69      0.72        97\n",
            "           1       0.64      0.69      0.67        68\n",
            "           2       0.80      0.33      0.47        12\n",
            "           3       0.51      0.61      0.55        56\n",
            "\n",
            "    accuracy                           0.65       233\n",
            "   macro avg       0.68      0.58      0.60       233\n",
            "weighted avg       0.67      0.65      0.65       233\n",
            "\n"
          ]
        },
        {
          "output_type": "display_data",
          "data": {
            "text/plain": [
              "<Figure size 720x720 with 1 Axes>"
            ],
            "image/png": "[encoded data removed]"
          },
          "metadata": {
            "needs_background": "light"
          }
        }
      ],
      "source": [
        "# import seaborn as sns\n",
        "import matplotlib.pyplot as plt\n",
        "\n",
        "claf=svm.LinearSVC(multi_class=\"ovr\")\n",
        "claf.fit(xtrain_tfidf,train_y)\n",
        "plot_cm(xvalid_tfidf, valid_y, claf, 'Training Word Level - TfidfVectorizer on SVM')"
      ]
    },
    {
      "cell_type": "code",
      "execution_count": null,
      "metadata": {
        "id": "PDQGsj9F6cOd"
      },
      "outputs": [],
      "source": [
        "def pred(lyrics):\n",
        "    wt=word_tokenize(lyrics)\n",
        "    tag_map = defaultdict(lambda : wn.NOUN)\n",
        "    tag_map['J'] = wn.ADJ\n",
        "    tag_map['V'] = wn.VERB\n",
        "    tag_map['R'] = wn.ADV\n",
        "    Final_words = []\n",
        "    word_Lemmatized = WordNetLemmatizer()\n",
        "    for word, tag in pos_tag(wt):\n",
        "        if word not in stopwords.words('english') and word.isalpha():\n",
        "            word_Final = word_Lemmatized.lemmatize(word,tag_map[tag[0]])\n",
        "            Final_words.append(word_Final)\n",
        "    result = str(Final_words)\n",
        "    df9=pd.DataFrame(columns=[\"lyrics\"])\n",
        "    df9=df9.append({'lyrics':result},ignore_index=True)\n",
        "#     xvalid_count =  count_vect.transform(result)\n",
        "#     res = Encoder.fit_transform(result)\n",
        "    testx=df9['lyrics']\n",
        "#     print(testx.shape)\n",
        "    xvalid_tfidf =  tfidf_vect.transform(testx)\n",
        "    y=claf.predict(xvalid_tfidf)\n",
        "    print(\"Tag: \",end='')\n",
        "    if y==0:\n",
        "        print(\"Happy\")\n",
        "    elif(y==1):\n",
        "        print(\"Sad\")\n",
        "    elif(y==2):\n",
        "        print(\"Angry\")\n",
        "    elif(y==3):\n",
        "        print(\"Relaxed\")"
      ]
    },
    {
      "cell_type": "code",
      "source": [
        "pred(\"Oh-ooh-whoa-oh-oh-oh-oh \\nOh-ooh-whoa-oh-oh-oh-oh \\nOh-ooh-whoa-oh, oh-oh-oh-oh \\nYou know you love me (yo), I know you care (uh-huh) \\nJust shout whenever (yo), and I'll be there (uh-huh)\")\n"
      ],
      "metadata": {
        "colab": {
          "base_uri": "https://localhost:8080/"
        },
        "id": "h5zTOE3a91GX",
        "outputId": "b96cbe96-ac1c-488f-de80-645780b42180"
      },
      "execution_count": null,
      "outputs": [
        {
          "output_type": "stream",
          "name": "stdout",
          "text": [
            "Tag: Happy\n"
          ]
        }
      ]
    }
  ],
  "metadata": {
    "language_info": {
      "name": "python"
    },
    "orig_nbformat": 4,
    "colab": {
      "provenance": []
    },
    "kernelspec": {
      "name": "python3",
      "display_name": "Python 3"
    },
    "gpuClass": "standard"
  },
  "nbformat": 4,
  "nbformat_minor": 0
}